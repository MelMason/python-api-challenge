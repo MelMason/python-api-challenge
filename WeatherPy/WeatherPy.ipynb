{
 "cells": [
  {
   "cell_type": "markdown",
   "metadata": {},
   "source": [
    "# WeatherPy\n",
    "----\n",
    "\n",
    "#### Note\n",
    "* Instructions have been included for each segment. You do not have to follow them exactly, but they are included to help you think through the steps."
   ]
  },
  {
   "cell_type": "code",
   "execution_count": 35,
   "metadata": {
    "scrolled": true
   },
   "outputs": [],
   "source": [
    "# Dependencies and Setup\n",
    "import matplotlib.pyplot as plt\n",
    "import pandas as pd\n",
    "import numpy as np\n",
    "import requests\n",
    "import time\n",
    "from scipy.stats import linregress\n",
    "\n",
    "# Import API key\n",
    "from api_keys import weather_api_key\n",
    "\n",
    "# Incorporated citipy to determine city based on latitude and longitude\n",
    "from citipy import citipy\n",
    "\n",
    "# Output File (CSV)\n",
    "output_data_file = \"cities.csv\"\n",
    "\n",
    "# Range of latitudes and longitudes\n",
    "lat_range = (-90, 90)\n",
    "lng_range = (-180, 180)"
   ]
  },
  {
   "cell_type": "markdown",
   "metadata": {},
   "source": [
    "## Generate Cities List"
   ]
  },
  {
   "cell_type": "code",
   "execution_count": 36,
   "metadata": {},
   "outputs": [
    {
     "data": {
      "text/plain": [
       "632"
      ]
     },
     "execution_count": 36,
     "metadata": {},
     "output_type": "execute_result"
    }
   ],
   "source": [
    "# List for holding lat_lngs and cities\n",
    "lat_lngs = []\n",
    "cities = []\n",
    "\n",
    "# Create a set of random lat and lng combinations\n",
    "lats = np.random.uniform(low=-90.000, high=90.000, size=1500)\n",
    "lngs = np.random.uniform(low=-180.000, high=180.000, size=1500)\n",
    "lat_lngs = zip(lats, lngs)\n",
    "\n",
    "# Identify nearest city for each lat, lng combination\n",
    "for lat_lng in lat_lngs:\n",
    "    city = citipy.nearest_city(lat_lng[0], lat_lng[1]).city_name\n",
    "    \n",
    "    # If the city is unique, then add it to a our cities list\n",
    "    if city not in cities:\n",
    "        cities.append(city)\n",
    "\n",
    "# Print the city count to confirm sufficient count\n",
    "len(cities)"
   ]
  },
  {
   "cell_type": "code",
   "execution_count": 39,
   "metadata": {},
   "outputs": [
    {
     "data": {
      "text/plain": [
       "{'cod': '404', 'message': 'city not found'}"
      ]
     },
     "execution_count": 39,
     "metadata": {},
     "output_type": "execute_result"
    }
   ],
   "source": [
    "# url_test = \"http://api.openweathermap.org/data/2.5/weather?\"\n",
    "# city=\"London\"\n",
    "# units = \"imperial\"\n",
    "\n",
    "# query_url_test = f\"{url_test}appid={weather_api_key}&units={units}&q={city}\"\n",
    "\n",
    "# testing = requests.get(query_url_test)\n",
    "# testing_json=testing.json()\n",
    "# testing_json\n",
    "response"
   ]
  },
  {
   "cell_type": "code",
   "execution_count": 45,
   "metadata": {},
   "outputs": [
    {
     "ename": "AttributeError",
     "evalue": "'dict' object has no attribute 'NotFoundError'",
     "output_type": "error",
     "traceback": [
      "\u001b[0;31m---------------------------------------------------------------------------\u001b[0m",
      "\u001b[0;31mKeyError\u001b[0m                                  Traceback (most recent call last)",
      "\u001b[0;32m<ipython-input-45-43315f9baaf2>\u001b[0m in \u001b[0;36m<module>\u001b[0;34m\u001b[0m\n\u001b[1;32m     18\u001b[0m         \u001b[0mresponse\u001b[0m \u001b[0;34m=\u001b[0m \u001b[0mrequests\u001b[0m\u001b[0;34m.\u001b[0m\u001b[0mget\u001b[0m\u001b[0;34m(\u001b[0m\u001b[0mquery_url\u001b[0m \u001b[0;34m+\u001b[0m \u001b[0mcity\u001b[0m\u001b[0;34m)\u001b[0m\u001b[0;34m.\u001b[0m\u001b[0mjson\u001b[0m\u001b[0;34m(\u001b[0m\u001b[0;34m)\u001b[0m\u001b[0;34m\u001b[0m\u001b[0;34m\u001b[0m\u001b[0m\n\u001b[0;32m---> 19\u001b[0;31m         \u001b[0mcloud\u001b[0m\u001b[0;34m.\u001b[0m\u001b[0mappend\u001b[0m\u001b[0;34m(\u001b[0m\u001b[0mresponse\u001b[0m\u001b[0;34m[\u001b[0m\u001b[0;34m'clouds'\u001b[0m\u001b[0;34m]\u001b[0m\u001b[0;34m[\u001b[0m\u001b[0;34m'all'\u001b[0m\u001b[0;34m]\u001b[0m\u001b[0;34m)\u001b[0m\u001b[0;34m\u001b[0m\u001b[0;34m\u001b[0m\u001b[0m\n\u001b[0m\u001b[1;32m     20\u001b[0m         \u001b[0mcountry\u001b[0m\u001b[0;34m.\u001b[0m\u001b[0mappend\u001b[0m\u001b[0;34m(\u001b[0m\u001b[0mresponse\u001b[0m\u001b[0;34m[\u001b[0m\u001b[0;34m'sys'\u001b[0m\u001b[0;34m]\u001b[0m\u001b[0;34m[\u001b[0m\u001b[0;34m'country'\u001b[0m\u001b[0;34m]\u001b[0m\u001b[0;34m)\u001b[0m\u001b[0;34m\u001b[0m\u001b[0;34m\u001b[0m\u001b[0m\n",
      "\u001b[0;31mKeyError\u001b[0m: 'clouds'",
      "\nDuring handling of the above exception, another exception occurred:\n",
      "\u001b[0;31mAttributeError\u001b[0m                            Traceback (most recent call last)",
      "\u001b[0;32m<ipython-input-45-43315f9baaf2>\u001b[0m in \u001b[0;36m<module>\u001b[0;34m\u001b[0m\n\u001b[1;32m     25\u001b[0m         \u001b[0mmax_temp\u001b[0m\u001b[0;34m.\u001b[0m\u001b[0mappend\u001b[0m\u001b[0;34m(\u001b[0m\u001b[0mresponse\u001b[0m\u001b[0;34m[\u001b[0m\u001b[0;34m'main'\u001b[0m\u001b[0;34m]\u001b[0m\u001b[0;34m[\u001b[0m\u001b[0;34m'temp_max'\u001b[0m\u001b[0;34m]\u001b[0m\u001b[0;34m)\u001b[0m\u001b[0;34m\u001b[0m\u001b[0;34m\u001b[0m\u001b[0m\n\u001b[1;32m     26\u001b[0m         \u001b[0mwind_speed\u001b[0m\u001b[0;34m.\u001b[0m\u001b[0mappend\u001b[0m\u001b[0;34m(\u001b[0m\u001b[0mresponse\u001b[0m\u001b[0;34m[\u001b[0m\u001b[0;34m'wind'\u001b[0m\u001b[0;34m]\u001b[0m\u001b[0;34m[\u001b[0m\u001b[0;34m'speed'\u001b[0m\u001b[0;34m]\u001b[0m\u001b[0;34m)\u001b[0m\u001b[0;34m\u001b[0m\u001b[0;34m\u001b[0m\u001b[0m\n\u001b[0;32m---> 27\u001b[0;31m     \u001b[0;32mexcept\u001b[0m \u001b[0mresponse\u001b[0m\u001b[0;34m.\u001b[0m\u001b[0mNotFoundError\u001b[0m\u001b[0;34m:\u001b[0m\u001b[0;34m\u001b[0m\u001b[0;34m\u001b[0m\u001b[0m\n\u001b[0m\u001b[1;32m     28\u001b[0m         \u001b[0mprint\u001b[0m\u001b[0;34m(\u001b[0m\u001b[0;34m'value not found'\u001b[0m\u001b[0;34m)\u001b[0m\u001b[0;34m\u001b[0m\u001b[0;34m\u001b[0m\u001b[0m\n",
      "\u001b[0;31mAttributeError\u001b[0m: 'dict' object has no attribute 'NotFoundError'"
     ]
    }
   ],
   "source": [
    "url = \"http://api.openweathermap.org/data/2.5/weather?\"\n",
    "units = \"imperial\"\n",
    "\n",
    "query_url = f\"{url}appid={weather_api_key}&units={units}&q=\" \n",
    "\n",
    "\n",
    "cloud=[]\n",
    "country=[]\n",
    "date=[]\n",
    "humidity=[]\n",
    "lat=[]\n",
    "lng=[]\n",
    "max_temp=[]\n",
    "wind_speed=[]\n",
    "\n",
    "for city in cities:\n",
    "#     try:\n",
    "        response = requests.get(query_url + city).json()\n",
    "        cloud.append(response['clouds']['all'])\n",
    "        country.append(response['sys']['country'])\n",
    "        date.append(response['dt'])\n",
    "        humidity.append(response['main']['humidity'])\n",
    "        lat.append(response['coord']['lat'])\n",
    "        lng.append(response['coord']['lon'])\n",
    "        max_temp.append(response['main']['temp_max'])\n",
    "        wind_speed.append(response['wind']['speed'])\n",
    "            if response = \"404\":\n",
    "                then \n",
    "#     except response.NotFoundError: \n",
    "        print('value not found')\n"
   ]
  },
  {
   "cell_type": "code",
   "execution_count": 17,
   "metadata": {},
   "outputs": [
    {
     "name": "stdout",
     "output_type": "stream",
     "text": [
      "[61, 61, 46.99, 66.99, 89.6, 84.2, 60.01, 42.01, 66.99, 82]\n"
     ]
    }
   ],
   "source": [
    "# Perform a weather check on each city using a series of successive API calls.\n",
    "# Include a print log of each city as it'sbeing processed (with the city number and city name).\n",
    "url_test = \"http://api.openweathermap.org/data/2.5/weather?\"\n",
    "city=\"London\"\n",
    "units = \"imperial\"\n",
    "\n",
    "query_url_test = f\"{url_test}appid={weather_api_key}&units={units}&q=\"\n",
    "\n",
    "\n",
    "\n",
    "# cities =  [\"Paris\", \"London\", \"Oslo\", \"Beijing\", \"Mumbai\", \"Manila\", \"New York\", \"Seattle\", \"Dallas\", \"Taiwan\"]\n",
    "\n",
    "cloud=[]\n",
    "country=[]\n",
    "date=[]\n",
    "humidity=[]\n",
    "lat=[]\n",
    "lng=[]\n",
    "max_temp=[]\n",
    "wind_speed=[]\n",
    "\n",
    "for city in cities:\n",
    "#     try:\n",
    "        response = requests.get(query_url+city).json()\n",
    "        cloud.append(response['clouds']['all'])\n",
    "        country.append(response['sys']['country'])\n",
    "        date.append(response['dt'])\n",
    "        humidity.append(response['main']['humidity'])\n",
    "        lat.append(response['coord']['lat'])\n",
    "        lng.append(response['coord']['lon'])\n",
    "        max_temp.append(response['main']['temp_max'])\n",
    "        wind_speed.append(response['wind']['speed'])\n",
    "#     except(KeyError, IndexError): \n",
    "#         \n",
    "    \n",
    "print(max_temp)"
   ]
  },
  {
   "cell_type": "markdown",
   "metadata": {},
   "source": [
    "### Perform API Calls\n",
    "* Perform a weather check on each city using a series of successive API calls.\n",
    "* Include a print log of each city as it'sbeing processed (with the city number and city name).\n"
   ]
  },
  {
   "cell_type": "code",
   "execution_count": 3,
   "metadata": {},
   "outputs": [
    {
     "name": "stdout",
     "output_type": "stream",
     "text": [
      "Beginning Data Retrieval     \n",
      "-----------------------------\n",
      "Processing Record 1 of Set 1 | severo-kurilsk\n",
      "Processing Record 2 of Set 1 | darhan\n",
      "Processing Record 3 of Set 1 | tarakan\n",
      "Processing Record 4 of Set 1 | komsomolskiy\n",
      "Processing Record 5 of Set 1 | souillac\n",
      "Processing Record 6 of Set 1 | jiuquan\n",
      "Processing Record 7 of Set 1 | sesheke\n",
      "Processing Record 8 of Set 1 | punta arenas\n",
      "Processing Record 9 of Set 1 | clarence town\n",
      "Processing Record 10 of Set 1 | mataura\n",
      "Processing Record 11 of Set 1 | magadan\n",
      "Processing Record 12 of Set 1 | salym\n",
      "Processing Record 13 of Set 1 | carnarvon\n",
      "Processing Record 14 of Set 1 | puerto ayora\n",
      "Processing Record 15 of Set 1 | arys\n",
      "Processing Record 16 of Set 1 | prince rupert\n",
      "Processing Record 17 of Set 1 | albany\n",
      "Processing Record 18 of Set 1 | dikson\n",
      "Processing Record 19 of Set 1 | kapaa\n",
      "Processing Record 20 of Set 1 | rikitea\n",
      "Processing Record 21 of Set 1 | rio gallegos\n",
      "Processing Record 22 of Set 1 | kropotkin\n",
      "Processing Record 23 of Set 1 | butaritari\n",
      "Processing Record 24 of Set 1 | dahra\n",
      "Processing Record 25 of Set 1 | khatanga\n",
      "Processing Record 26 of Set 1 | stephenville\n",
      "Processing Record 27 of Set 1 | hobart\n",
      "Processing Record 28 of Set 1 | north bend\n",
      "Processing Record 29 of Set 1 | ponta do sol\n",
      "Processing Record 30 of Set 1 | faya\n",
      "Processing Record 31 of Set 1 | vryburg\n",
      "Processing Record 32 of Set 1 | lolua\n",
      "City not found. Skipping...\n",
      "Processing Record 33 of Set 1 | hasaki\n",
      "Processing Record 34 of Set 1 | zhigansk\n",
      "Processing Record 35 of Set 1 | ushuaia\n",
      "Processing Record 36 of Set 1 | thompson\n",
      "Processing Record 37 of Set 1 | margate\n",
      "Processing Record 38 of Set 1 | oksfjord\n",
      "Processing Record 39 of Set 1 | chumikan\n",
      "Processing Record 40 of Set 1 | kudat\n",
      "Processing Record 41 of Set 1 | jamestown\n",
      "Processing Record 42 of Set 1 | laguna\n",
      "Processing Record 43 of Set 1 | abu zabad\n",
      "Processing Record 44 of Set 1 | jiroft\n",
      "City not found. Skipping...\n",
      "Processing Record 45 of Set 1 | saint-joseph\n",
      "Processing Record 46 of Set 1 | cabo san lucas\n",
      "Processing Record 47 of Set 1 | new norfolk\n",
      "Processing Record 48 of Set 1 | port alfred\n",
      "Processing Record 49 of Set 1 | kirkwall\n",
      "Processing Record 50 of Set 1 | luderitz\n",
      "Processing Record 0 of Set 2 | bethel\n",
      "Processing Record 1 of Set 2 | vao\n",
      "Processing Record 2 of Set 2 | saldanha\n",
      "Processing Record 3 of Set 2 | melo\n",
      "Processing Record 4 of Set 2 | taolanaro\n",
      "City not found. Skipping...\n",
      "Processing Record 5 of Set 2 | college\n",
      "Processing Record 6 of Set 2 | prinos\n",
      "Processing Record 7 of Set 2 | kodiak\n",
      "Processing Record 8 of Set 2 | cabo rojo\n",
      "Processing Record 9 of Set 2 | nuevo ideal\n",
      "Processing Record 10 of Set 2 | yumen\n",
      "Processing Record 11 of Set 2 | khonsa\n",
      "Processing Record 12 of Set 2 | biloela\n",
      "Processing Record 13 of Set 2 | sungaipenuh\n",
      "Processing Record 14 of Set 2 | namatanai\n",
      "Processing Record 15 of Set 2 | kungurtug\n",
      "Processing Record 16 of Set 2 | port elizabeth\n",
      "Processing Record 17 of Set 2 | busselton\n",
      "Processing Record 18 of Set 2 | san rafael\n",
      "Processing Record 19 of Set 2 | cape town\n",
      "Processing Record 20 of Set 2 | hovd\n",
      "Processing Record 21 of Set 2 | isangel\n",
      "Processing Record 22 of Set 2 | ancud\n",
      "Processing Record 23 of Set 2 | humenne\n",
      "Processing Record 24 of Set 2 | natal\n",
      "Processing Record 25 of Set 2 | moron\n",
      "Processing Record 26 of Set 2 | saryshagan\n",
      "City not found. Skipping...\n",
      "Processing Record 27 of Set 2 | kaitangata\n",
      "Processing Record 28 of Set 2 | poya\n",
      "Processing Record 29 of Set 2 | yellowknife\n",
      "Processing Record 30 of Set 2 | pangai\n",
      "Processing Record 31 of Set 2 | havre-saint-pierre\n",
      "Processing Record 32 of Set 2 | takoradi\n",
      "Processing Record 33 of Set 2 | bathsheba\n",
      "Processing Record 34 of Set 2 | kirksville\n",
      "Processing Record 35 of Set 2 | pangody\n",
      "Processing Record 36 of Set 2 | qaanaaq\n",
      "Processing Record 37 of Set 2 | hithadhoo\n",
      "Processing Record 38 of Set 2 | borujan\n",
      "City not found. Skipping...\n",
      "Processing Record 39 of Set 2 | cambridge\n",
      "Processing Record 40 of Set 2 | damaturu\n",
      "Processing Record 41 of Set 2 | bardiyah\n",
      "City not found. Skipping...\n",
      "Processing Record 42 of Set 2 | carbonear\n",
      "Processing Record 43 of Set 2 | nikolskoye\n",
      "Processing Record 44 of Set 2 | mar del plata\n",
      "Processing Record 45 of Set 2 | charlestown\n",
      "Processing Record 46 of Set 2 | mixtepec\n",
      "City not found. Skipping...\n",
      "Processing Record 47 of Set 2 | touros\n",
      "Processing Record 48 of Set 2 | boissevain\n",
      "Processing Record 49 of Set 2 | bluff\n",
      "Processing Record 0 of Set 3 | kudahuvadhoo\n",
      "Processing Record 1 of Set 3 | illoqqortoormiut\n",
      "City not found. Skipping...\n",
      "Processing Record 2 of Set 3 | tairua\n",
      "Processing Record 3 of Set 3 | tuatapere\n",
      "Processing Record 4 of Set 3 | bredasdorp\n",
      "Processing Record 5 of Set 3 | silver city\n",
      "Processing Record 6 of Set 3 | veracruz\n",
      "Processing Record 7 of Set 3 | barentsburg\n",
      "City not found. Skipping...\n",
      "Processing Record 8 of Set 3 | rincon\n",
      "Processing Record 9 of Set 3 | hermanus\n",
      "Processing Record 10 of Set 3 | toktogul\n",
      "Processing Record 11 of Set 3 | lebu\n",
      "Processing Record 12 of Set 3 | mahebourg\n",
      "Processing Record 13 of Set 3 | yilan\n",
      "Processing Record 14 of Set 3 | mumford\n",
      "Processing Record 15 of Set 3 | atuona\n",
      "Processing Record 16 of Set 3 | diffa\n",
      "Processing Record 17 of Set 3 | saskylakh\n",
      "Processing Record 18 of Set 3 | yambio\n",
      "City not found. Skipping...\n",
      "Processing Record 19 of Set 3 | lompoc\n",
      "Processing Record 20 of Set 3 | ribeira grande\n",
      "Processing Record 21 of Set 3 | dana point\n",
      "Processing Record 22 of Set 3 | castro\n",
      "Processing Record 23 of Set 3 | upernavik\n",
      "Processing Record 24 of Set 3 | kavieng\n",
      "Processing Record 25 of Set 3 | barabinsk\n",
      "Processing Record 26 of Set 3 | port lincoln\n",
      "Processing Record 27 of Set 3 | malinovoye ozero\n",
      "Processing Record 28 of Set 3 | ambatofinandrahana\n",
      "Processing Record 29 of Set 3 | puerto del rosario\n",
      "Processing Record 30 of Set 3 | pevek\n",
      "Processing Record 31 of Set 3 | chuy\n",
      "Processing Record 32 of Set 3 | zhezkazgan\n",
      "Processing Record 33 of Set 3 | avarua\n",
      "Processing Record 34 of Set 3 | batagay-alyta\n",
      "Processing Record 35 of Set 3 | baltiysk\n",
      "Processing Record 36 of Set 3 | parfino\n",
      "Processing Record 37 of Set 3 | barrow\n",
      "Processing Record 38 of Set 3 | hilo\n",
      "Processing Record 39 of Set 3 | mackenzie\n",
      "Processing Record 40 of Set 3 | lebanon\n",
      "Processing Record 41 of Set 3 | nishihara\n",
      "Processing Record 42 of Set 3 | antalaha\n",
      "Processing Record 43 of Set 3 | narsaq\n",
      "Processing Record 44 of Set 3 | hami\n",
      "Processing Record 45 of Set 3 | shaoyang\n",
      "Processing Record 46 of Set 3 | chokurdakh\n",
      "Processing Record 47 of Set 3 | petropavlovsk-kamchatskiy\n",
      "Processing Record 48 of Set 3 | leningradskiy\n",
      "Processing Record 49 of Set 3 | amderma\n",
      "City not found. Skipping...\n",
      "Processing Record 0 of Set 4 | mehamn\n",
      "Processing Record 1 of Set 4 | vaini\n",
      "Processing Record 2 of Set 4 | bara\n",
      "Processing Record 3 of Set 4 | krasnoselkup\n",
      "City not found. Skipping...\n",
      "Processing Record 4 of Set 4 | risch\n",
      "Processing Record 5 of Set 4 | along\n",
      "Processing Record 6 of Set 4 | vestmanna\n",
      "Processing Record 7 of Set 4 | mwinilunga\n",
      "Processing Record 8 of Set 4 | kamenskoye\n",
      "City not found. Skipping...\n",
      "Processing Record 9 of Set 4 | pozo colorado\n",
      "Processing Record 10 of Set 4 | tumannyy\n",
      "City not found. Skipping...\n",
      "Processing Record 11 of Set 4 | werder\n",
      "Processing Record 12 of Set 4 | lovington\n",
      "Processing Record 13 of Set 4 | qasigiannguit\n",
      "Processing Record 14 of Set 4 | mackay\n",
      "Processing Record 15 of Set 4 | pisco\n",
      "Processing Record 16 of Set 4 | marcona\n",
      "City not found. Skipping...\n",
      "Processing Record 17 of Set 4 | sisimiut\n",
      "Processing Record 18 of Set 4 | banda aceh\n",
      "Processing Record 19 of Set 4 | fortuna\n",
      "Processing Record 20 of Set 4 | ouadda\n",
      "Processing Record 21 of Set 4 | sucua\n",
      "Processing Record 22 of Set 4 | nanortalik\n",
      "Processing Record 23 of Set 4 | longyearbyen\n",
      "Processing Record 24 of Set 4 | araouane\n",
      "Processing Record 25 of Set 4 | barra patuca\n",
      "Processing Record 26 of Set 4 | warqla\n",
      "City not found. Skipping...\n",
      "Processing Record 27 of Set 4 | louisbourg\n",
      "City not found. Skipping...\n",
      "Processing Record 28 of Set 4 | wattegama\n",
      "Processing Record 29 of Set 4 | tuktoyaktuk\n",
      "Processing Record 30 of Set 4 | tabou\n",
      "Processing Record 31 of Set 4 | arraial do cabo\n",
      "Processing Record 32 of Set 4 | stabat\n",
      "Processing Record 33 of Set 4 | klaksvik\n",
      "Processing Record 34 of Set 4 | alofi\n",
      "Processing Record 35 of Set 4 | sumbawanga\n",
      "Processing Record 36 of Set 4 | lagoa\n",
      "Processing Record 37 of Set 4 | sentyabrskiy\n",
      "City not found. Skipping...\n",
      "Processing Record 38 of Set 4 | bambous virieux\n",
      "Processing Record 39 of Set 4 | saint george\n",
      "Processing Record 40 of Set 4 | hibbing\n",
      "Processing Record 41 of Set 4 | bandar-e lengeh\n",
      "Processing Record 42 of Set 4 | viedma\n",
      "Processing Record 43 of Set 4 | kazalinsk\n",
      "City not found. Skipping...\n",
      "Processing Record 44 of Set 4 | grand river south east\n",
      "City not found. Skipping...\n",
      "Processing Record 45 of Set 4 | port keats\n",
      "Processing Record 46 of Set 4 | jinchang\n",
      "Processing Record 47 of Set 4 | lata\n",
      "Processing Record 48 of Set 4 | fairbanks\n",
      "Processing Record 49 of Set 4 | olupona\n",
      "Processing Record 0 of Set 5 | genhe\n",
      "Processing Record 1 of Set 5 | dingle\n",
      "Processing Record 2 of Set 5 | williamsburg\n",
      "Processing Record 3 of Set 5 | anloga\n",
      "Processing Record 4 of Set 5 | esperance\n",
      "Processing Record 5 of Set 5 | saint-philippe\n",
      "Processing Record 6 of Set 5 | provideniya\n",
      "Processing Record 7 of Set 5 | bargal\n",
      "City not found. Skipping...\n",
      "Processing Record 8 of Set 5 | cockburn harbour\n",
      "City not found. Skipping...\n",
      "Processing Record 9 of Set 5 | dalvik\n",
      "Processing Record 10 of Set 5 | salalah\n",
      "Processing Record 11 of Set 5 | inta\n",
      "Processing Record 12 of Set 5 | naze\n",
      "Processing Record 13 of Set 5 | juneau\n",
      "Processing Record 14 of Set 5 | kurumkan\n",
      "Processing Record 15 of Set 5 | ranong\n",
      "Processing Record 16 of Set 5 | cockburn town\n",
      "Processing Record 17 of Set 5 | sakakah\n",
      "City not found. Skipping...\n",
      "Processing Record 18 of Set 5 | norman wells\n",
      "Processing Record 19 of Set 5 | hoquiam\n",
      "Processing Record 20 of Set 5 | georgetown\n",
      "Processing Record 21 of Set 5 | marv dasht\n",
      "City not found. Skipping...\n",
      "Processing Record 22 of Set 5 | ostrovnoy\n",
      "Processing Record 23 of Set 5 | placido de castro\n",
      "Processing Record 24 of Set 5 | anar darreh\n",
      "City not found. Skipping...\n",
      "Processing Record 25 of Set 5 | suksun\n",
      "Processing Record 26 of Set 5 | bengkulu\n",
      "City not found. Skipping...\n",
      "Processing Record 27 of Set 5 | samusu\n",
      "City not found. Skipping...\n",
      "Processing Record 28 of Set 5 | belushya guba\n",
      "City not found. Skipping...\n",
      "Processing Record 29 of Set 5 | faanui\n",
      "Processing Record 30 of Set 5 | ust-barguzin\n",
      "Processing Record 31 of Set 5 | itacare\n",
      "Processing Record 32 of Set 5 | nacogdoches\n",
      "Processing Record 33 of Set 5 | cape canaveral\n",
      "Processing Record 34 of Set 5 | puri\n",
      "Processing Record 35 of Set 5 | umzimvubu\n",
      "City not found. Skipping...\n",
      "Processing Record 36 of Set 5 | jubayl\n",
      "City not found. Skipping...\n",
      "Processing Record 37 of Set 5 | tarnow\n",
      "Processing Record 38 of Set 5 | vicuna\n",
      "City not found. Skipping...\n",
      "Processing Record 39 of Set 5 | jumla\n",
      "Processing Record 40 of Set 5 | ust-kuyga\n",
      "Processing Record 41 of Set 5 | saleaula\n",
      "City not found. Skipping...\n",
      "Processing Record 42 of Set 5 | rocha\n",
      "Processing Record 43 of Set 5 | tasiilaq\n",
      "Processing Record 44 of Set 5 | ribeira brava\n",
      "Processing Record 45 of Set 5 | norrtalje\n",
      "Processing Record 46 of Set 5 | warrington\n",
      "Processing Record 47 of Set 5 | noumea\n",
      "Processing Record 48 of Set 5 | akyab\n",
      "City not found. Skipping...\n",
      "Processing Record 49 of Set 5 | meadow lake\n",
      "Processing Record 0 of Set 6 | chimoio\n",
      "Processing Record 1 of Set 6 | oussouye\n",
      "Processing Record 2 of Set 6 | gazojak\n",
      "Processing Record 3 of Set 6 | balikpapan\n",
      "Processing Record 4 of Set 6 | jabiru\n",
      "City not found. Skipping...\n",
      "Processing Record 5 of Set 6 | torbay\n",
      "Processing Record 6 of Set 6 | elko\n",
      "Processing Record 7 of Set 6 | sao joao da barra\n",
      "Processing Record 8 of Set 6 | saquena\n",
      "Processing Record 9 of Set 6 | makokou\n",
      "Processing Record 10 of Set 6 | hambantota\n",
      "Processing Record 11 of Set 6 | beidao\n",
      "Processing Record 12 of Set 6 | praia da vitoria\n",
      "Processing Record 13 of Set 6 | port blair\n",
      "Processing Record 14 of Set 6 | tsihombe\n",
      "City not found. Skipping...\n",
      "Processing Record 15 of Set 6 | awbari\n",
      "Processing Record 16 of Set 6 | reconquista\n",
      "Processing Record 17 of Set 6 | aklavik\n",
      "Processing Record 18 of Set 6 | teya\n",
      "Processing Record 19 of Set 6 | toliary\n",
      "City not found. Skipping...\n",
      "Processing Record 20 of Set 6 | edinet\n",
      "Processing Record 21 of Set 6 | taoudenni\n",
      "Processing Record 22 of Set 6 | goundam\n",
      "Processing Record 23 of Set 6 | socorro\n",
      "Processing Record 24 of Set 6 | merrill\n",
      "Processing Record 25 of Set 6 | vagay\n",
      "Processing Record 26 of Set 6 | comodoro rivadavia\n",
      "Processing Record 27 of Set 6 | pudozh\n",
      "Processing Record 28 of Set 6 | sambava\n",
      "Processing Record 29 of Set 6 | batesville\n",
      "Processing Record 30 of Set 6 | mys shmidta\n",
      "City not found. Skipping...\n",
      "Processing Record 31 of Set 6 | itaituba\n",
      "Processing Record 32 of Set 6 | la asuncion\n",
      "Processing Record 33 of Set 6 | east london\n",
      "Processing Record 34 of Set 6 | chipinge\n",
      "Processing Record 35 of Set 6 | cedartown\n",
      "Processing Record 36 of Set 6 | miranda\n",
      "Processing Record 37 of Set 6 | utiroa\n",
      "City not found. Skipping...\n",
      "Processing Record 38 of Set 6 | sabang\n",
      "Processing Record 39 of Set 6 | abong mbang\n",
      "Processing Record 40 of Set 6 | port hardy\n",
      "Processing Record 41 of Set 6 | canon city\n",
      "Processing Record 42 of Set 6 | santa quiteria do maranhao\n",
      "Processing Record 43 of Set 6 | ryotsu\n",
      "Processing Record 44 of Set 6 | pacific grove\n",
      "Processing Record 45 of Set 6 | kishi\n",
      "Processing Record 46 of Set 6 | obihiro\n",
      "Processing Record 47 of Set 6 | katsuura\n",
      "Processing Record 48 of Set 6 | saint augustine\n",
      "Processing Record 49 of Set 6 | bushehr\n",
      "Processing Record 0 of Set 7 | nizhniy kuranakh\n",
      "Processing Record 1 of Set 7 | bonthe\n",
      "Processing Record 2 of Set 7 | saint-augustin\n",
      "Processing Record 3 of Set 7 | nizwa\n",
      "Processing Record 4 of Set 7 | kamenka\n",
      "Processing Record 5 of Set 7 | tiksi\n",
      "Processing Record 6 of Set 7 | saint anthony\n",
      "Processing Record 7 of Set 7 | vardo\n",
      "Processing Record 8 of Set 7 | riyadh\n",
      "Processing Record 9 of Set 7 | malim\n",
      "Processing Record 10 of Set 7 | makakilo city\n",
      "Processing Record 11 of Set 7 | henties bay\n",
      "Processing Record 12 of Set 7 | caravelas\n",
      "Processing Record 13 of Set 7 | gazli\n",
      "Processing Record 14 of Set 7 | nizhneyansk\n",
      "City not found. Skipping...\n",
      "Processing Record 15 of Set 7 | san juan\n",
      "Processing Record 16 of Set 7 | moose factory\n",
      "Processing Record 17 of Set 7 | kashi\n",
      "City not found. Skipping...\n",
      "Processing Record 18 of Set 7 | fuerte olimpo\n",
      "Processing Record 19 of Set 7 | saint-pierre\n",
      "Processing Record 20 of Set 7 | raca\n",
      "Processing Record 21 of Set 7 | san quintin\n",
      "Processing Record 22 of Set 7 | sedro-woolley\n",
      "Processing Record 23 of Set 7 | berdigestyakh\n",
      "Processing Record 24 of Set 7 | high level\n",
      "Processing Record 25 of Set 7 | khorramshahr\n",
      "Processing Record 26 of Set 7 | san jose\n",
      "Processing Record 27 of Set 7 | emba\n",
      "Processing Record 28 of Set 7 | farcasu\n",
      "Processing Record 29 of Set 7 | kruisfontein\n",
      "Processing Record 30 of Set 7 | garango\n",
      "Processing Record 31 of Set 7 | boa vista\n",
      "Processing Record 32 of Set 7 | novopskov\n",
      "Processing Record 33 of Set 7 | shimoda\n",
      "Processing Record 34 of Set 7 | portland\n",
      "Processing Record 35 of Set 7 | waingapu\n",
      "Processing Record 36 of Set 7 | zuwarah\n",
      "Processing Record 37 of Set 7 | muroto\n",
      "Processing Record 38 of Set 7 | sao filipe\n",
      "Processing Record 39 of Set 7 | attawapiskat\n",
      "City not found. Skipping...\n",
      "Processing Record 40 of Set 7 | lunenburg\n",
      "Processing Record 41 of Set 7 | novyy urengoy\n",
      "Processing Record 42 of Set 7 | ferry pass\n",
      "Processing Record 43 of Set 7 | crotone\n",
      "Processing Record 44 of Set 7 | arlit\n",
      "Processing Record 45 of Set 7 | auki\n",
      "Processing Record 46 of Set 7 | ambilobe\n",
      "Processing Record 47 of Set 7 | ilhabela\n",
      "Processing Record 48 of Set 7 | kirakira\n",
      "Processing Record 49 of Set 7 | cidreira\n",
      "Processing Record 0 of Set 8 | chambas\n",
      "Processing Record 1 of Set 8 | gat\n",
      "Processing Record 2 of Set 8 | petatlan\n",
      "Processing Record 3 of Set 8 | nha trang\n",
      "Processing Record 4 of Set 8 | hermosillo\n",
      "Processing Record 5 of Set 8 | airai\n",
      "Processing Record 6 of Set 8 | kahului\n",
      "Processing Record 7 of Set 8 | yeppoon\n",
      "Processing Record 8 of Set 8 | manavgat\n",
      "Processing Record 9 of Set 8 | jarjis\n",
      "City not found. Skipping...\n",
      "Processing Record 10 of Set 8 | xambioa\n",
      "City not found. Skipping...\n",
      "Processing Record 11 of Set 8 | katima mulilo\n",
      "Processing Record 12 of Set 8 | carutapera\n",
      "Processing Record 13 of Set 8 | yar-sale\n",
      "Processing Record 14 of Set 8 | haines junction\n",
      "Processing Record 15 of Set 8 | half moon bay\n",
      "Processing Record 16 of Set 8 | vanavara\n",
      "Processing Record 17 of Set 8 | santander\n",
      "Processing Record 18 of Set 8 | amuntai\n",
      "Processing Record 19 of Set 8 | esmeraldas\n",
      "Processing Record 20 of Set 8 | okhotsk\n",
      "Processing Record 21 of Set 8 | datong\n",
      "Processing Record 22 of Set 8 | sidi ali\n",
      "Processing Record 23 of Set 8 | muravlenko\n",
      "Processing Record 24 of Set 8 | amahai\n",
      "Processing Record 25 of Set 8 | santa isabel do rio negro\n",
      "Processing Record 26 of Set 8 | wageningen\n",
      "Processing Record 27 of Set 8 | svetlogorsk\n",
      "Processing Record 28 of Set 8 | paita\n",
      "Processing Record 29 of Set 8 | maniitsoq\n",
      "Processing Record 30 of Set 8 | port augusta\n",
      "Processing Record 31 of Set 8 | yulara\n",
      "Processing Record 32 of Set 8 | bur gabo\n",
      "City not found. Skipping...\n",
      "Processing Record 33 of Set 8 | hofn\n",
      "Processing Record 34 of Set 8 | pulupandan\n",
      "Processing Record 35 of Set 8 | wajima\n",
      "Processing Record 36 of Set 8 | dnestrovsc\n",
      "Processing Record 37 of Set 8 | biak\n",
      "Processing Record 38 of Set 8 | bam\n",
      "Processing Record 39 of Set 8 | tacoronte\n",
      "Processing Record 40 of Set 8 | otavi\n",
      "Processing Record 41 of Set 8 | adrar\n",
      "Processing Record 42 of Set 8 | srednekolymsk\n",
      "Processing Record 43 of Set 8 | belmonte\n",
      "Processing Record 44 of Set 8 | san cristobal\n",
      "Processing Record 45 of Set 8 | kalomo\n",
      "City not found. Skipping...\n",
      "Processing Record 46 of Set 8 | callaway\n",
      "Processing Record 47 of Set 8 | birao\n",
      "Processing Record 48 of Set 8 | itoman\n",
      "Processing Record 49 of Set 8 | uch\n",
      "Processing Record 0 of Set 9 | santona\n",
      "Processing Record 1 of Set 9 | onguday\n",
      "Processing Record 2 of Set 9 | hangu\n",
      "Processing Record 3 of Set 9 | geraldton\n",
      "Processing Record 4 of Set 9 | gorele\n",
      "Processing Record 5 of Set 9 | erenhot\n",
      "Processing Record 6 of Set 9 | hauterive\n",
      "Processing Record 7 of Set 9 | kerema\n",
      "Processing Record 8 of Set 9 | jalu\n",
      "Processing Record 9 of Set 9 | inhambane\n",
      "Processing Record 10 of Set 9 | kenai\n",
      "Processing Record 11 of Set 9 | azimur\n",
      "City not found. Skipping...\n",
      "Processing Record 12 of Set 9 | joshimath\n",
      "Processing Record 13 of Set 9 | hamilton\n",
      "Processing Record 14 of Set 9 | talnakh\n",
      "Processing Record 15 of Set 9 | nam tha\n",
      "City not found. Skipping...\n",
      "Processing Record 16 of Set 9 | dzhusaly\n",
      "City not found. Skipping...\n",
      "Processing Record 17 of Set 9 | egvekinot\n",
      "Processing Record 18 of Set 9 | victoria\n",
      "Processing Record 19 of Set 9 | atbasar\n",
      "Processing Record 20 of Set 9 | bulembu\n",
      "Processing Record 21 of Set 9 | hohhot\n",
      "Processing Record 22 of Set 9 | halifax\n",
      "Processing Record 23 of Set 9 | rehoboth\n",
      "Processing Record 24 of Set 9 | beloha\n",
      "Processing Record 25 of Set 9 | sehithwa\n",
      "Processing Record 26 of Set 9 | burdur\n",
      "Processing Record 27 of Set 9 | baruun-urt\n",
      "Processing Record 28 of Set 9 | fagernes\n",
      "Processing Record 29 of Set 9 | domoni\n",
      "City not found. Skipping...\n",
      "Processing Record 30 of Set 9 | toyooka\n",
      "Processing Record 31 of Set 9 | nantucket\n",
      "Processing Record 32 of Set 9 | martaban\n",
      "Processing Record 33 of Set 9 | puerto escondido\n",
      "Processing Record 34 of Set 9 | port moresby\n",
      "Processing Record 35 of Set 9 | malinovskiy\n",
      "Processing Record 36 of Set 9 | kumluca\n",
      "Processing Record 37 of Set 9 | salinas\n",
      "Processing Record 38 of Set 9 | mount isa\n",
      "Processing Record 39 of Set 9 | cherskiy\n",
      "Processing Record 40 of Set 9 | gobabis\n",
      "Processing Record 41 of Set 9 | bilma\n",
      "Processing Record 42 of Set 9 | abiy adi\n",
      "City not found. Skipping...\n",
      "Processing Record 43 of Set 9 | fort nelson\n",
      "Processing Record 44 of Set 9 | quesnel\n",
      "Processing Record 45 of Set 9 | dakar\n",
      "Processing Record 46 of Set 9 | maloshuyka\n",
      "City not found. Skipping...\n",
      "Processing Record 47 of Set 9 | santiago del estero\n",
      "Processing Record 48 of Set 9 | buala\n",
      "Processing Record 49 of Set 9 | irbeyskoye\n",
      "Processing Record 0 of Set 10 | vila franca do campo\n",
      "Processing Record 1 of Set 10 | coihaique\n",
      "Processing Record 2 of Set 10 | los llanos de aridane\n",
      "Processing Record 3 of Set 10 | muros\n",
      "Processing Record 4 of Set 10 | port hedland\n",
      "Processing Record 5 of Set 10 | kieta\n",
      "Processing Record 6 of Set 10 | satitoa\n",
      "City not found. Skipping...\n",
      "Processing Record 7 of Set 10 | green river\n",
      "Processing Record 8 of Set 10 | mosonmagyarovar\n",
      "Processing Record 9 of Set 10 | mindelo\n",
      "Processing Record 10 of Set 10 | roblin\n",
      "Processing Record 11 of Set 10 | la ronge\n",
      "Processing Record 12 of Set 10 | tubuala\n",
      "Processing Record 13 of Set 10 | port-gentil\n",
      "Processing Record 14 of Set 10 | mordovo\n",
      "Processing Record 15 of Set 10 | clyde river\n",
      "Processing Record 16 of Set 10 | karaul\n",
      "City not found. Skipping...\n",
      "Processing Record 17 of Set 10 | aykhal\n",
      "Processing Record 18 of Set 10 | tuensang\n",
      "Processing Record 19 of Set 10 | pascagoula\n",
      "Processing Record 20 of Set 10 | korla\n",
      "City not found. Skipping...\n",
      "Processing Record 21 of Set 10 | canto do buriti\n",
      "Processing Record 22 of Set 10 | bijie\n",
      "Processing Record 23 of Set 10 | san-pedro\n",
      "Processing Record 24 of Set 10 | luorong\n",
      "Processing Record 25 of Set 10 | yei\n",
      "City not found. Skipping...\n",
      "Processing Record 26 of Set 10 | berlevag\n",
      "Processing Record 27 of Set 10 | hihifo\n",
      "City not found. Skipping...\n",
      "Processing Record 28 of Set 10 | satipo\n",
      "Processing Record 29 of Set 10 | rawson\n",
      "Processing Record 30 of Set 10 | marsh harbour\n",
      "Processing Record 31 of Set 10 | taupo\n",
      "Processing Record 32 of Set 10 | san carlos de bariloche\n",
      "Processing Record 33 of Set 10 | pervomayskoye\n",
      "Processing Record 34 of Set 10 | chicama\n",
      "Processing Record 35 of Set 10 | angoche\n",
      "Processing Record 36 of Set 10 | brae\n",
      "Processing Record 37 of Set 10 | manokwari\n",
      "Processing Record 38 of Set 10 | mauganj\n",
      "Processing Record 39 of Set 10 | te anau\n",
      "Processing Record 40 of Set 10 | vila velha\n",
      "Processing Record 41 of Set 10 | tautira\n",
      "Processing Record 42 of Set 10 | dong xoai\n",
      "Processing Record 43 of Set 10 | batemans bay\n",
      "Processing Record 44 of Set 10 | diapaga\n",
      "Processing Record 45 of Set 10 | mangrol\n",
      "Processing Record 46 of Set 10 | mersing\n",
      "Processing Record 47 of Set 10 | maldonado\n",
      "Processing Record 48 of Set 10 | mikhaylovka\n",
      "Processing Record 49 of Set 10 | temple\n",
      "Processing Record 0 of Set 11 | gigmoto\n",
      "Processing Record 1 of Set 11 | makow mazowiecki\n",
      "Processing Record 2 of Set 11 | lasa\n",
      "Processing Record 3 of Set 11 | mazamari\n",
      "Processing Record 4 of Set 11 | matagami\n",
      "Processing Record 5 of Set 11 | steamboat springs\n",
      "Processing Record 6 of Set 11 | mount gambier\n",
      "Processing Record 7 of Set 11 | chyhyryn\n",
      "Processing Record 8 of Set 11 | nortelandia\n",
      "Processing Record 9 of Set 11 | imperial\n",
      "Processing Record 10 of Set 11 | progreso\n",
      "Processing Record 11 of Set 11 | hvammstangi\n",
      "City not found. Skipping...\n",
      "Processing Record 12 of Set 11 | arriaga\n",
      "Processing Record 13 of Set 11 | qusar\n",
      "Processing Record 14 of Set 11 | tessalit\n",
      "Processing Record 15 of Set 11 | de aar\n",
      "Processing Record 16 of Set 11 | kutum\n",
      "Processing Record 17 of Set 11 | ketchikan\n",
      "Processing Record 18 of Set 11 | peleduy\n",
      "Processing Record 19 of Set 11 | libenge\n",
      "Processing Record 20 of Set 11 | kapoeta\n",
      "City not found. Skipping...\n",
      "Processing Record 21 of Set 11 | tomatlan\n",
      "Processing Record 22 of Set 11 | lalmohan\n",
      "Processing Record 23 of Set 11 | vastervik\n",
      "City not found. Skipping...\n",
      "Processing Record 24 of Set 11 | serowe\n",
      "Processing Record 25 of Set 11 | mihail kogalniceanu\n",
      "Processing Record 26 of Set 11 | broken hill\n",
      "Processing Record 27 of Set 11 | ajaccio\n",
      "Processing Record 28 of Set 11 | suntar\n",
      "Processing Record 29 of Set 11 | mezica\n",
      "Processing Record 30 of Set 11 | sitka\n",
      "Processing Record 31 of Set 11 | ewa beach\n",
      "Processing Record 32 of Set 11 | songea\n",
      "Processing Record 33 of Set 11 | monroe\n",
      "Processing Record 34 of Set 11 | cravo norte\n",
      "Processing Record 35 of Set 11 | ystad\n",
      "Processing Record 36 of Set 11 | beyneu\n",
      "Processing Record 37 of Set 11 | almaznyy\n",
      "Processing Record 38 of Set 11 | vestmannaeyjar\n",
      "Processing Record 39 of Set 11 | cananeia\n",
      "Processing Record 40 of Set 11 | alta floresta\n",
      "Processing Record 41 of Set 11 | maketu\n",
      "Processing Record 42 of Set 11 | mecca\n",
      "Processing Record 43 of Set 11 | felidhoo\n",
      "City not found. Skipping...\n",
      "Processing Record 44 of Set 11 | manta\n",
      "Processing Record 45 of Set 11 | nebug\n",
      "Processing Record 46 of Set 11 | temaraia\n",
      "City not found. Skipping...\n",
      "Processing Record 47 of Set 11 | constitucion\n",
      "Processing Record 48 of Set 11 | cabimas\n",
      "Processing Record 49 of Set 11 | palabuhanratu\n",
      "City not found. Skipping...\n",
      "Processing Record 0 of Set 12 | khudumelapye\n",
      "Processing Record 1 of Set 12 | husavik\n",
      "Processing Record 2 of Set 12 | olinda\n",
      "Processing Record 3 of Set 12 | coquimbo\n",
      "Processing Record 4 of Set 12 | kambove\n",
      "Processing Record 5 of Set 12 | iquique\n",
      "Processing Record 6 of Set 12 | yenagoa\n",
      "Processing Record 7 of Set 12 | konakovo\n",
      "Processing Record 8 of Set 12 | labuhan\n",
      "Processing Record 9 of Set 12 | sampit\n",
      "Processing Record 10 of Set 12 | gayny\n",
      "Processing Record 11 of Set 12 | trafaria\n",
      "Processing Record 12 of Set 12 | zyryanka\n",
      "Processing Record 13 of Set 12 | soavinandriana\n",
      "Processing Record 14 of Set 12 | xiongzhou\n",
      "Processing Record 15 of Set 12 | labutta\n",
      "City not found. Skipping...\n",
      "Processing Record 16 of Set 12 | chagda\n",
      "City not found. Skipping...\n",
      "Processing Record 17 of Set 12 | batamshinskiy\n",
      "Processing Record 18 of Set 12 | kailua\n",
      "Processing Record 19 of Set 12 | kaliyaganj\n",
      "Processing Record 20 of Set 12 | cozumel\n",
      "City not found. Skipping...\n",
      "Processing Record 21 of Set 12 | obo\n",
      "Processing Record 22 of Set 12 | mushie\n",
      "Processing Record 23 of Set 12 | ishigaki\n",
      "Processing Record 24 of Set 12 | newport\n",
      "Processing Record 25 of Set 12 | quang ngai\n",
      "Processing Record 26 of Set 12 | butembo\n",
      "Processing Record 27 of Set 12 | palmer\n",
      "Processing Record 28 of Set 12 | motril\n",
      "Processing Record 29 of Set 12 | patitirion\n",
      "Processing Record 30 of Set 12 | omboue\n",
      "Processing Record 31 of Set 12 | waipawa\n",
      "Processing Record 32 of Set 12 | sakaiminato\n",
      "Processing Record 33 of Set 12 | raga\n",
      "City not found. Skipping...\n",
      "Processing Record 34 of Set 12 | xingcheng\n",
      "Processing Record 35 of Set 12 | necochea\n",
      "Processing Record 36 of Set 12 | gao\n",
      "Processing Record 37 of Set 12 | mrirt\n",
      "City not found. Skipping...\n",
      "Processing Record 38 of Set 12 | gardan diwal\n",
      "City not found. Skipping...\n",
      "Processing Record 39 of Set 12 | jiwani\n",
      "Processing Record 40 of Set 12 | yurla\n",
      "Processing Record 41 of Set 12 | codrington\n",
      "Processing Record 42 of Set 12 | kalmunai\n",
      "Processing Record 43 of Set 12 | flinders\n",
      "Processing Record 44 of Set 12 | primorsko-akhtarsk\n",
      "Processing Record 45 of Set 12 | ilulissat\n",
      "Processing Record 46 of Set 12 | vaitupu\n",
      "City not found. Skipping...\n",
      "Processing Record 47 of Set 12 | isfana\n",
      "Processing Record 48 of Set 12 | borshchiv\n",
      "Processing Record 49 of Set 12 | hobyo\n",
      "Processing Record 0 of Set 13 | aktash\n",
      "City not found. Skipping...\n",
      "Processing Record 1 of Set 13 | syamzha\n",
      "Processing Record 2 of Set 13 | mahibadhoo\n",
      "Processing Record 3 of Set 13 | tiznit\n",
      "Processing Record 4 of Set 13 | point fortin\n",
      "-----------------------------\n",
      "Data Retrieval Complete      \n",
      "-----------------------------\n"
     ]
    }
   ],
   "source": []
  },
  {
   "cell_type": "markdown",
   "metadata": {},
   "source": [
    "### Convert Raw Data to DataFrame\n",
    "* Export the city data into a .csv.\n",
    "* Display the DataFrame"
   ]
  },
  {
   "cell_type": "code",
   "execution_count": 140,
   "metadata": {},
   "outputs": [
    {
     "data": {
      "text/plain": [
       "City           object\n",
       "Cloudiness      int64\n",
       "Country        object\n",
       "Date            int64\n",
       "Humidity        int64\n",
       "Lat           float64\n",
       "Lng           float64\n",
       "Max Temp      float64\n",
       "Wind Speed    float64\n",
       "dtype: object"
      ]
     },
     "execution_count": 140,
     "metadata": {},
     "output_type": "execute_result"
    }
   ],
   "source": [
    "# create a data frame from cities, lat, and temp\n",
    "weather_dict = {\n",
    "    \"City\": cities,\n",
    "    \"Cloudiness\":cloud,\n",
    "    \"Country\":country,\n",
    "    \"Date\":date,\n",
    "    \"Humidity\":humidity,\n",
    "    \"Lat\": lat,\n",
    "    \"Lng\":lng,\n",
    "    \"Max Temp\":max_temp,\n",
    "    \"Wind Speed\":wind_speed\n",
    "}\n",
    "weather_data = pd.DataFrame(weather_dict)\n",
    "weather_data.dtypes"
   ]
  },
  {
   "cell_type": "code",
   "execution_count": 141,
   "metadata": {},
   "outputs": [
    {
     "data": {
      "text/html": [
       "<div>\n",
       "<style scoped>\n",
       "    .dataframe tbody tr th:only-of-type {\n",
       "        vertical-align: middle;\n",
       "    }\n",
       "\n",
       "    .dataframe tbody tr th {\n",
       "        vertical-align: top;\n",
       "    }\n",
       "\n",
       "    .dataframe thead th {\n",
       "        text-align: right;\n",
       "    }\n",
       "</style>\n",
       "<table border=\"1\" class=\"dataframe\">\n",
       "  <thead>\n",
       "    <tr style=\"text-align: right;\">\n",
       "      <th></th>\n",
       "      <th>City</th>\n",
       "      <th>Cloudiness</th>\n",
       "      <th>Country</th>\n",
       "      <th>Date</th>\n",
       "      <th>Humidity</th>\n",
       "      <th>Lat</th>\n",
       "      <th>Lng</th>\n",
       "      <th>Max Temp</th>\n",
       "      <th>Wind Speed</th>\n",
       "    </tr>\n",
       "  </thead>\n",
       "  <tbody>\n",
       "    <tr>\n",
       "      <th>0</th>\n",
       "      <td>Paris</td>\n",
       "      <td>11</td>\n",
       "      <td>FR</td>\n",
       "      <td>1570571885</td>\n",
       "      <td>87</td>\n",
       "      <td>48.86</td>\n",
       "      <td>2.35</td>\n",
       "      <td>55.40</td>\n",
       "      <td>8.05</td>\n",
       "    </tr>\n",
       "    <tr>\n",
       "      <th>1</th>\n",
       "      <td>London</td>\n",
       "      <td>0</td>\n",
       "      <td>GB</td>\n",
       "      <td>1570572214</td>\n",
       "      <td>76</td>\n",
       "      <td>51.51</td>\n",
       "      <td>-0.13</td>\n",
       "      <td>53.60</td>\n",
       "      <td>10.29</td>\n",
       "    </tr>\n",
       "    <tr>\n",
       "      <th>2</th>\n",
       "      <td>Oslo</td>\n",
       "      <td>90</td>\n",
       "      <td>NO</td>\n",
       "      <td>1570572128</td>\n",
       "      <td>100</td>\n",
       "      <td>59.91</td>\n",
       "      <td>10.74</td>\n",
       "      <td>41.00</td>\n",
       "      <td>4.70</td>\n",
       "    </tr>\n",
       "    <tr>\n",
       "      <th>3</th>\n",
       "      <td>Beijing</td>\n",
       "      <td>0</td>\n",
       "      <td>CN</td>\n",
       "      <td>1570572061</td>\n",
       "      <td>93</td>\n",
       "      <td>39.91</td>\n",
       "      <td>116.39</td>\n",
       "      <td>57.99</td>\n",
       "      <td>2.24</td>\n",
       "    </tr>\n",
       "    <tr>\n",
       "      <th>4</th>\n",
       "      <td>Mumbai</td>\n",
       "      <td>75</td>\n",
       "      <td>IN</td>\n",
       "      <td>1570572140</td>\n",
       "      <td>83</td>\n",
       "      <td>19.01</td>\n",
       "      <td>72.85</td>\n",
       "      <td>86.00</td>\n",
       "      <td>4.70</td>\n",
       "    </tr>\n",
       "  </tbody>\n",
       "</table>\n",
       "</div>"
      ],
      "text/plain": [
       "      City  Cloudiness Country        Date  Humidity    Lat     Lng  Max Temp  \\\n",
       "0    Paris          11      FR  1570571885        87  48.86    2.35     55.40   \n",
       "1   London           0      GB  1570572214        76  51.51   -0.13     53.60   \n",
       "2     Oslo          90      NO  1570572128       100  59.91   10.74     41.00   \n",
       "3  Beijing           0      CN  1570572061        93  39.91  116.39     57.99   \n",
       "4   Mumbai          75      IN  1570572140        83  19.01   72.85     86.00   \n",
       "\n",
       "   Wind Speed  \n",
       "0        8.05  \n",
       "1       10.29  \n",
       "2        4.70  \n",
       "3        2.24  \n",
       "4        4.70  "
      ]
     },
     "execution_count": 141,
     "metadata": {},
     "output_type": "execute_result"
    }
   ],
   "source": [
    "weather_data = pd.DataFrame(weather_dict)\n",
    "weather_data.head()"
   ]
  },
  {
   "cell_type": "markdown",
   "metadata": {},
   "source": [
    "### Plotting the Data\n",
    "* Use proper labeling of the plots using plot titles (including date of analysis) and axes labels.\n",
    "* Save the plotted figures as .pngs."
   ]
  },
  {
   "cell_type": "markdown",
   "metadata": {},
   "source": [
    "#### Latitude vs. Temperature Plot"
   ]
  },
  {
   "cell_type": "code",
   "execution_count": 142,
   "metadata": {},
   "outputs": [
    {
     "data": {
      "image/png": "[encoded data removed]",
      "text/plain": [
       "<Figure size 432x288 with 1 Axes>"
      ]
     },
     "metadata": {
      "needs_background": "light"
     },
     "output_type": "display_data"
    }
   ],
   "source": [
    "# create scatter plot for lat vs. max temp\n",
    "weather_data.plot(x=\"Lat\", y=\"Max Temp\", kind=\"scatter\", marker=\"o\", facecolors=\"red\", edgecolors=\"black\",\n",
    "             alpha=0.75)\n",
    "plt.title(\"City Latitude vs. Max Temperature 10/6/19\")\n",
    "plt.xlabel('Latitude')\n",
    "plt.ylabel('Max Temperature (F)')\n",
    "plt.grid(axis = 'both')\n",
    "plt.show()\n",
    "plt.savefig(\"lat_vs_maxtemp\")"
   ]
  },
  {
   "cell_type": "markdown",
   "metadata": {},
   "source": [
    "#### Latitude vs. Humidity Plot"
   ]
  },
  {
   "cell_type": "code",
   "execution_count": 143,
   "metadata": {},
   "outputs": [
    {
     "data": {
      "image/png": "[encoded data removed]",
      "text/plain": [
       "<Figure size 432x288 with 1 Axes>"
      ]
     },
     "metadata": {
      "needs_background": "light"
     },
     "output_type": "display_data"
    },
    {
     "data": {
      "text/plain": [
       "<Figure size 432x288 with 0 Axes>"
      ]
     },
     "metadata": {},
     "output_type": "display_data"
    }
   ],
   "source": [
    "# create scatter plot for lat vs. humidity\n",
    "weather_data.plot(x=\"Lat\", y=\"Humidity\", kind=\"scatter\", marker=\"o\", facecolors=\"red\", edgecolors=\"black\",\n",
    "             alpha=0.75)\n",
    "plt.title(\"City Latitude vs. Humidity 10/6/19\")\n",
    "plt.xlabel('Latitude')\n",
    "plt.ylabel('Humidity(%)')\n",
    "plt.grid(axis = 'both')\n",
    "plt.show()\n",
    "plt.savefig(\"lat_vs_humidity\")"
   ]
  },
  {
   "cell_type": "markdown",
   "metadata": {},
   "source": [
    "#### Latitude vs. Cloudiness Plot"
   ]
  },
  {
   "cell_type": "code",
   "execution_count": 144,
   "metadata": {},
   "outputs": [
    {
     "data": {
      "image/png": "[encoded data removed]",
      "text/plain": [
       "<Figure size 432x288 with 1 Axes>"
      ]
     },
     "metadata": {
      "needs_background": "light"
     },
     "output_type": "display_data"
    },
    {
     "data": {
      "text/plain": [
       "<Figure size 432x288 with 0 Axes>"
      ]
     },
     "metadata": {},
     "output_type": "display_data"
    }
   ],
   "source": [
    "# create scatter plot for lat vs. cloudiness\n",
    "weather_data.plot(x=\"Lat\", y=\"Cloudiness\", kind=\"scatter\", marker=\"o\", facecolors=\"red\", edgecolors=\"black\",\n",
    "             alpha=0.75)\n",
    "plt.title(\"City Latitude s. Cloudiness (10/6/19)\")\n",
    "plt.xlabel('Latitude')\n",
    "plt.ylabel('Cloudiness (%)')\n",
    "plt.grid(axis = 'both')\n",
    "plt.show()\n",
    "plt.savefig(\"lat_vs_cloudiness\")"
   ]
  },
  {
   "cell_type": "markdown",
   "metadata": {},
   "source": [
    "#### Latitude vs. Wind Speed Plot"
   ]
  },
  {
   "cell_type": "code",
   "execution_count": 145,
   "metadata": {},
   "outputs": [
    {
     "data": {
      "image/png": "[encoded data removed]",
      "text/plain": [
       "<Figure size 432x288 with 1 Axes>"
      ]
     },
     "metadata": {
      "needs_background": "light"
     },
     "output_type": "display_data"
    },
    {
     "data": {
      "text/plain": [
       "<Figure size 432x288 with 0 Axes>"
      ]
     },
     "metadata": {},
     "output_type": "display_data"
    }
   ],
   "source": [
    "# create scatter plot for lat vs. wind speed\n",
    "weather_data.plot(x=\"Lat\", y=\"Wind Speed\", kind=\"scatter\", marker=\"o\", facecolors=\"red\", edgecolors=\"black\",\n",
    "             alpha=0.75)\n",
    "plt.title(\"City Latitude s. Wind Speed (10/6/19)\")\n",
    "plt.xlabel('Latitude')\n",
    "plt.ylabel('Wind Speed (MPH)')\n",
    "plt.grid(axis = 'both')\n",
    "plt.show()\n",
    "plt.savefig(\"lat_vs_windSpeed\")"
   ]
  },
  {
   "cell_type": "markdown",
   "metadata": {},
   "source": [
    "## Linear Regression"
   ]
  },
  {
   "cell_type": "code",
   "execution_count": 108,
   "metadata": {},
   "outputs": [],
   "source": [
    "# OPTIONAL: Create a function to create Linear Regression plots\n"
   ]
  },
  {
   "cell_type": "code",
   "execution_count": 148,
   "metadata": {},
   "outputs": [],
   "source": [
    "# Create Northern and Southern Hemisphere DataFrames\n",
    "north_hemi = weather_data.loc[(weather_data[\"Lat\"]>=0)]\n",
    "south_hemi = weather_data.loc[(weather_data[\"Lat\"]<0)]\n"
   ]
  },
  {
   "cell_type": "markdown",
   "metadata": {},
   "source": [
    "####  Northern Hemisphere - Max Temp vs. Latitude Linear Regression"
   ]
  },
  {
   "cell_type": "code",
   "execution_count": 152,
   "metadata": {},
   "outputs": [
    {
     "data": {
      "image/png": "[encoded data removed]",
      "text/plain": [
       "<Figure size 432x288 with 1 Axes>"
      ]
     },
     "metadata": {
      "needs_background": "light"
     },
     "output_type": "display_data"
    },
    {
     "name": "stdout",
     "output_type": "stream",
     "text": [
      "The r-squared value is: -0.9429685318355204\n"
     ]
    },
    {
     "data": {
      "text/plain": [
       "'y = -0.97x + 101.75'"
      ]
     },
     "execution_count": 152,
     "metadata": {},
     "output_type": "execute_result"
    },
    {
     "data": {
      "text/plain": [
       "<Figure size 432x288 with 0 Axes>"
      ]
     },
     "metadata": {},
     "output_type": "display_data"
    }
   ],
   "source": [
    "# determine x- and y-values\n",
    "x_values = north_hemi['Lat']\n",
    "y_values = north_hemi['Max Temp']\n",
    "\n",
    "# Add the linear regression equation and line to plot\n",
    "(slope, intercept, rvalue, pvalue, stderr) = linregress(x_values, y_values)\n",
    "regress_values = x_values * slope + intercept\n",
    "line_eq = \"y = \" + str(round(slope,2)) + \"x + \" + str(round(intercept,2))\n",
    "plt.scatter(x_values,y_values)\n",
    "plt.plot(x_values,regress_values,\"r-\")\n",
    "plt.annotate(line_eq,(15,45),fontsize=15,color=\"red\")\n",
    "\n",
    "# identify plot labels\n",
    "plt.title(\"Northern Hemisphere Latitude vs. Max Temperature (10/6/19)\")\n",
    "plt.xlabel('Latitude')\n",
    "plt.ylabel('Max Temperature (F)')\n",
    "plt.show()\n",
    "\n",
    "print(f\"The r-squared value is: {rvalue}\")\n",
    "plt.savefig(\"NH_lat_vs_maxtemp\")\n",
    "line_eq"
   ]
  },
  {
   "cell_type": "markdown",
   "metadata": {},
   "source": [
    "####  Southern Hemisphere - Max Temp vs. Latitude Linear Regression"
   ]
  },
  {
   "cell_type": "code",
   "execution_count": 153,
   "metadata": {},
   "outputs": [
    {
     "ename": "ValueError",
     "evalue": "Inputs must not be empty.",
     "output_type": "error",
     "traceback": [
      "\u001b[0;31m---------------------------------------------------------------------------\u001b[0m",
      "\u001b[0;31mValueError\u001b[0m                                Traceback (most recent call last)",
      "\u001b[0;32m<ipython-input-153-9999ffee7412>\u001b[0m in \u001b[0;36m<module>\u001b[0;34m\u001b[0m\n\u001b[1;32m      4\u001b[0m \u001b[0;34m\u001b[0m\u001b[0m\n\u001b[1;32m      5\u001b[0m \u001b[0;31m# Add the linear regression equation and line to plot\u001b[0m\u001b[0;34m\u001b[0m\u001b[0;34m\u001b[0m\u001b[0;34m\u001b[0m\u001b[0m\n\u001b[0;32m----> 6\u001b[0;31m \u001b[0;34m(\u001b[0m\u001b[0mslope\u001b[0m\u001b[0;34m,\u001b[0m \u001b[0mintercept\u001b[0m\u001b[0;34m,\u001b[0m \u001b[0mrvalue\u001b[0m\u001b[0;34m,\u001b[0m \u001b[0mpvalue\u001b[0m\u001b[0;34m,\u001b[0m \u001b[0mstderr\u001b[0m\u001b[0;34m)\u001b[0m \u001b[0;34m=\u001b[0m \u001b[0mlinregress\u001b[0m\u001b[0;34m(\u001b[0m\u001b[0mx_values\u001b[0m\u001b[0;34m,\u001b[0m \u001b[0my_values\u001b[0m\u001b[0;34m)\u001b[0m\u001b[0;34m\u001b[0m\u001b[0;34m\u001b[0m\u001b[0m\n\u001b[0m\u001b[1;32m      7\u001b[0m \u001b[0mregress_values\u001b[0m \u001b[0;34m=\u001b[0m \u001b[0mx_values\u001b[0m \u001b[0;34m*\u001b[0m \u001b[0mslope\u001b[0m \u001b[0;34m+\u001b[0m \u001b[0mintercept\u001b[0m\u001b[0;34m\u001b[0m\u001b[0;34m\u001b[0m\u001b[0m\n\u001b[1;32m      8\u001b[0m \u001b[0mline_eq\u001b[0m \u001b[0;34m=\u001b[0m \u001b[0;34m\"y = \"\u001b[0m \u001b[0;34m+\u001b[0m \u001b[0mstr\u001b[0m\u001b[0;34m(\u001b[0m\u001b[0mround\u001b[0m\u001b[0;34m(\u001b[0m\u001b[0mslope\u001b[0m\u001b[0;34m,\u001b[0m\u001b[0;36m2\u001b[0m\u001b[0;34m)\u001b[0m\u001b[0;34m)\u001b[0m \u001b[0;34m+\u001b[0m \u001b[0;34m\"x + \"\u001b[0m \u001b[0;34m+\u001b[0m \u001b[0mstr\u001b[0m\u001b[0;34m(\u001b[0m\u001b[0mround\u001b[0m\u001b[0;34m(\u001b[0m\u001b[0mintercept\u001b[0m\u001b[0;34m,\u001b[0m\u001b[0;36m2\u001b[0m\u001b[0;34m)\u001b[0m\u001b[0;34m)\u001b[0m\u001b[0;34m\u001b[0m\u001b[0;34m\u001b[0m\u001b[0m\n",
      "\u001b[0;32m~/anaconda3/lib/python3.7/site-packages/scipy/stats/_stats_mstats_common.py\u001b[0m in \u001b[0;36mlinregress\u001b[0;34m(x, y)\u001b[0m\n\u001b[1;32m     93\u001b[0m \u001b[0;34m\u001b[0m\u001b[0m\n\u001b[1;32m     94\u001b[0m     \u001b[0;32mif\u001b[0m \u001b[0mx\u001b[0m\u001b[0;34m.\u001b[0m\u001b[0msize\u001b[0m \u001b[0;34m==\u001b[0m \u001b[0;36m0\u001b[0m \u001b[0;32mor\u001b[0m \u001b[0my\u001b[0m\u001b[0;34m.\u001b[0m\u001b[0msize\u001b[0m \u001b[0;34m==\u001b[0m \u001b[0;36m0\u001b[0m\u001b[0;34m:\u001b[0m\u001b[0;34m\u001b[0m\u001b[0;34m\u001b[0m\u001b[0m\n\u001b[0;32m---> 95\u001b[0;31m         \u001b[0;32mraise\u001b[0m \u001b[0mValueError\u001b[0m\u001b[0;34m(\u001b[0m\u001b[0;34m\"Inputs must not be empty.\"\u001b[0m\u001b[0;34m)\u001b[0m\u001b[0;34m\u001b[0m\u001b[0;34m\u001b[0m\u001b[0m\n\u001b[0m\u001b[1;32m     96\u001b[0m \u001b[0;34m\u001b[0m\u001b[0m\n\u001b[1;32m     97\u001b[0m     \u001b[0mn\u001b[0m \u001b[0;34m=\u001b[0m \u001b[0mlen\u001b[0m\u001b[0;34m(\u001b[0m\u001b[0mx\u001b[0m\u001b[0;34m)\u001b[0m\u001b[0;34m\u001b[0m\u001b[0;34m\u001b[0m\u001b[0m\n",
      "\u001b[0;31mValueError\u001b[0m: Inputs must not be empty."
     ]
    }
   ],
   "source": [
    "# determine x- and y-values\n",
    "x_values = south_hemi['Lat']\n",
    "y_values = south_hemi['Max Temp']\n",
    "\n",
    "# Add the linear regression equation and line to plot\n",
    "(slope, intercept, rvalue, pvalue, stderr) = linregress(x_values, y_values)\n",
    "regress_values = x_values * slope + intercept\n",
    "line_eq = \"y = \" + str(round(slope,2)) + \"x + \" + str(round(intercept,2))\n",
    "plt.scatter(x_values,y_values)\n",
    "plt.plot(x_values,regress_values,\"r-\")\n",
    "plt.annotate(line_eq,(15,45),fontsize=15,color=\"red\")\n",
    "\n",
    "# identify plot labels\n",
    "plt.title(\"Southern Hemisphere Latitude vs. Max Temperature (10/6/19)\")\n",
    "plt.xlabel('Latitude')\n",
    "plt.ylabel('Max Temperature (F)')\n",
    "\n",
    "# plt.xlim(-0.25, len(south_hemi[\"Lat\"]))\n",
    "\n",
    "print(f\"The r-squared value is: {rvalue}\")\n",
    "plt.show()\n",
    "plt.savefig(\"SH_lat_vs_maxtemp\")"
   ]
  },
  {
   "cell_type": "markdown",
   "metadata": {},
   "source": [
    "####  Northern Hemisphere - Humidity (%) vs. Latitude Linear Regression"
   ]
  },
  {
   "cell_type": "code",
   "execution_count": 155,
   "metadata": {},
   "outputs": [
    {
     "name": "stdout",
     "output_type": "stream",
     "text": [
      "The r-squared value is: 0.21301863047964215\n"
     ]
    },
    {
     "data": {
      "image/png": "[encoded data removed]",
      "text/plain": [
       "<Figure size 432x288 with 1 Axes>"
      ]
     },
     "metadata": {
      "needs_background": "light"
     },
     "output_type": "display_data"
    },
    {
     "data": {
      "text/plain": [
       "<Figure size 432x288 with 0 Axes>"
      ]
     },
     "metadata": {},
     "output_type": "display_data"
    }
   ],
   "source": [
    "# determine x- and y-values\n",
    "x_values = north_hemi['Lat']\n",
    "y_values = north_hemi['Humidity']\n",
    "\n",
    "# Add the linear regression equation and line to plot\n",
    "(slope, intercept, rvalue, pvalue, stderr) = linregress(x_values, y_values)\n",
    "regress_values = x_values * slope + intercept\n",
    "line_eq = \"y = \" + str(round(slope,2)) + \"x + \" + str(round(intercept,2))\n",
    "plt.scatter(x_values,y_values)\n",
    "plt.plot(x_values,regress_values,\"r-\")\n",
    "plt.annotate(line_eq,(15,35),fontsize=15,color=\"red\")\n",
    "\n",
    "# identify plot labels\n",
    "plt.title(\"Northern Hemisphere Latitude vs. Humidity(10/6/19)\")\n",
    "plt.xlabel('Latitude')\n",
    "plt.ylabel('Humidity (%)')\n",
    "\n",
    "\n",
    "print(f\"The r-squared value is: {rvalue}\")\n",
    "plt.show()\n",
    "plt.savefig(\"NH_lat_vs_humidity\")"
   ]
  },
  {
   "cell_type": "markdown",
   "metadata": {},
   "source": [
    "####  Southern Hemisphere - Humidity (%) vs. Latitude Linear Regression"
   ]
  },
  {
   "cell_type": "code",
   "execution_count": 156,
   "metadata": {},
   "outputs": [
    {
     "ename": "ValueError",
     "evalue": "Inputs must not be empty.",
     "output_type": "error",
     "traceback": [
      "\u001b[0;31m---------------------------------------------------------------------------\u001b[0m",
      "\u001b[0;31mValueError\u001b[0m                                Traceback (most recent call last)",
      "\u001b[0;32m<ipython-input-156-f3bd29d80b10>\u001b[0m in \u001b[0;36m<module>\u001b[0;34m\u001b[0m\n\u001b[1;32m      4\u001b[0m \u001b[0;34m\u001b[0m\u001b[0m\n\u001b[1;32m      5\u001b[0m \u001b[0;31m# Add the linear regression equation and line to plot\u001b[0m\u001b[0;34m\u001b[0m\u001b[0;34m\u001b[0m\u001b[0;34m\u001b[0m\u001b[0m\n\u001b[0;32m----> 6\u001b[0;31m \u001b[0;34m(\u001b[0m\u001b[0mslope\u001b[0m\u001b[0;34m,\u001b[0m \u001b[0mintercept\u001b[0m\u001b[0;34m,\u001b[0m \u001b[0mrvalue\u001b[0m\u001b[0;34m,\u001b[0m \u001b[0mpvalue\u001b[0m\u001b[0;34m,\u001b[0m \u001b[0mstderr\u001b[0m\u001b[0;34m)\u001b[0m \u001b[0;34m=\u001b[0m \u001b[0mlinregress\u001b[0m\u001b[0;34m(\u001b[0m\u001b[0mx_values\u001b[0m\u001b[0;34m,\u001b[0m \u001b[0my_values\u001b[0m\u001b[0;34m)\u001b[0m\u001b[0;34m\u001b[0m\u001b[0;34m\u001b[0m\u001b[0m\n\u001b[0m\u001b[1;32m      7\u001b[0m \u001b[0mregress_values\u001b[0m \u001b[0;34m=\u001b[0m \u001b[0mx_values\u001b[0m \u001b[0;34m*\u001b[0m \u001b[0mslope\u001b[0m \u001b[0;34m+\u001b[0m \u001b[0mintercept\u001b[0m\u001b[0;34m\u001b[0m\u001b[0;34m\u001b[0m\u001b[0m\n\u001b[1;32m      8\u001b[0m \u001b[0mline_eq\u001b[0m \u001b[0;34m=\u001b[0m \u001b[0;34m\"y = \"\u001b[0m \u001b[0;34m+\u001b[0m \u001b[0mstr\u001b[0m\u001b[0;34m(\u001b[0m\u001b[0mround\u001b[0m\u001b[0;34m(\u001b[0m\u001b[0mslope\u001b[0m\u001b[0;34m,\u001b[0m\u001b[0;36m2\u001b[0m\u001b[0;34m)\u001b[0m\u001b[0;34m)\u001b[0m \u001b[0;34m+\u001b[0m \u001b[0;34m\"x + \"\u001b[0m \u001b[0;34m+\u001b[0m \u001b[0mstr\u001b[0m\u001b[0;34m(\u001b[0m\u001b[0mround\u001b[0m\u001b[0;34m(\u001b[0m\u001b[0mintercept\u001b[0m\u001b[0;34m,\u001b[0m\u001b[0;36m2\u001b[0m\u001b[0;34m)\u001b[0m\u001b[0;34m)\u001b[0m\u001b[0;34m\u001b[0m\u001b[0;34m\u001b[0m\u001b[0m\n",
      "\u001b[0;32m~/anaconda3/lib/python3.7/site-packages/scipy/stats/_stats_mstats_common.py\u001b[0m in \u001b[0;36mlinregress\u001b[0;34m(x, y)\u001b[0m\n\u001b[1;32m     93\u001b[0m \u001b[0;34m\u001b[0m\u001b[0m\n\u001b[1;32m     94\u001b[0m     \u001b[0;32mif\u001b[0m \u001b[0mx\u001b[0m\u001b[0;34m.\u001b[0m\u001b[0msize\u001b[0m \u001b[0;34m==\u001b[0m \u001b[0;36m0\u001b[0m \u001b[0;32mor\u001b[0m \u001b[0my\u001b[0m\u001b[0;34m.\u001b[0m\u001b[0msize\u001b[0m \u001b[0;34m==\u001b[0m \u001b[0;36m0\u001b[0m\u001b[0;34m:\u001b[0m\u001b[0;34m\u001b[0m\u001b[0;34m\u001b[0m\u001b[0m\n\u001b[0;32m---> 95\u001b[0;31m         \u001b[0;32mraise\u001b[0m \u001b[0mValueError\u001b[0m\u001b[0;34m(\u001b[0m\u001b[0;34m\"Inputs must not be empty.\"\u001b[0m\u001b[0;34m)\u001b[0m\u001b[0;34m\u001b[0m\u001b[0;34m\u001b[0m\u001b[0m\n\u001b[0m\u001b[1;32m     96\u001b[0m \u001b[0;34m\u001b[0m\u001b[0m\n\u001b[1;32m     97\u001b[0m     \u001b[0mn\u001b[0m \u001b[0;34m=\u001b[0m \u001b[0mlen\u001b[0m\u001b[0;34m(\u001b[0m\u001b[0mx\u001b[0m\u001b[0;34m)\u001b[0m\u001b[0;34m\u001b[0m\u001b[0;34m\u001b[0m\u001b[0m\n",
      "\u001b[0;31mValueError\u001b[0m: Inputs must not be empty."
     ]
    }
   ],
   "source": [
    "# determine x- and y-values\n",
    "x_values = south_hemi['Lat']\n",
    "y_values = south_hemi['Humidity']\n",
    "\n",
    "# Add the linear regression equation and line to plot\n",
    "(slope, intercept, rvalue, pvalue, stderr) = linregress(x_values, y_values)\n",
    "regress_values = x_values * slope + intercept\n",
    "line_eq = \"y = \" + str(round(slope,2)) + \"x + \" + str(round(intercept,2))\n",
    "plt.scatter(x_values,y_values)\n",
    "plt.plot(x_values,regress_values,\"r-\")\n",
    "plt.annotate(line_eq,(15,35),fontsize=15,color=\"red\")\n",
    "\n",
    "# identify plot labels\n",
    "plt.title(\"Southern Hemisphere Latitude vs. Humidity (10/6/19)\")\n",
    "plt.xlabel('Latitude')\n",
    "plt.ylabel('Humidity (%)')\n",
    "\n",
    "\n",
    "print(f\"The r-squared value is: {rvalue}\")\n",
    "plt.show()\n",
    "plt.savefig(\"SH_lat_vs_humidity\")"
   ]
  },
  {
   "cell_type": "markdown",
   "metadata": {},
   "source": [
    "####  Northern Hemisphere - Cloudiness (%) vs. Latitude Linear Regression"
   ]
  },
  {
   "cell_type": "code",
   "execution_count": 159,
   "metadata": {},
   "outputs": [
    {
     "name": "stdout",
     "output_type": "stream",
     "text": [
      "The r-squared value is: 0.17340711932617822\n"
     ]
    },
    {
     "data": {
      "image/png": "[encoded data removed]",
      "text/plain": [
       "<Figure size 432x288 with 1 Axes>"
      ]
     },
     "metadata": {
      "needs_background": "light"
     },
     "output_type": "display_data"
    },
    {
     "data": {
      "text/plain": [
       "<Figure size 432x288 with 0 Axes>"
      ]
     },
     "metadata": {},
     "output_type": "display_data"
    }
   ],
   "source": [
    "# determine x- and y-values\n",
    "x_values = north_hemi['Lat']\n",
    "y_values = north_hemi['Cloudiness']\n",
    "\n",
    "# Add the linear regression equation and line to plot\n",
    "(slope, intercept, rvalue, pvalue, stderr) = linregress(x_values, y_values)\n",
    "regress_values = x_values * slope + intercept\n",
    "line_eq = \"y = \" + str(round(slope,2)) + \"x + \" + str(round(intercept,2))\n",
    "plt.scatter(x_values,y_values)\n",
    "plt.plot(x_values,regress_values,\"r-\")\n",
    "plt.annotate(line_eq,(20,15),fontsize=15,color=\"red\")\n",
    "\n",
    "# identify plot labels\n",
    "plt.title(\"Northern Hemisphere Latitude vs. Cloudiness (10/6/19)\")\n",
    "plt.xlabel('Latitude')\n",
    "plt.ylabel('Cloudiness (%)')\n",
    "\n",
    "\n",
    "print(f\"The r-squared value is: {rvalue}\")\n",
    "plt.show()\n",
    "plt.savefig(\"NH_lat_vs_cloud\")"
   ]
  },
  {
   "cell_type": "markdown",
   "metadata": {},
   "source": [
    "####  Southern Hemisphere - Cloudiness (%) vs. Latitude Linear Regression"
   ]
  },
  {
   "cell_type": "code",
   "execution_count": 160,
   "metadata": {},
   "outputs": [
    {
     "ename": "ValueError",
     "evalue": "Inputs must not be empty.",
     "output_type": "error",
     "traceback": [
      "\u001b[0;31m---------------------------------------------------------------------------\u001b[0m",
      "\u001b[0;31mValueError\u001b[0m                                Traceback (most recent call last)",
      "\u001b[0;32m<ipython-input-160-09ba61f3f299>\u001b[0m in \u001b[0;36m<module>\u001b[0;34m\u001b[0m\n\u001b[1;32m      4\u001b[0m \u001b[0;34m\u001b[0m\u001b[0m\n\u001b[1;32m      5\u001b[0m \u001b[0;31m# Add the linear regression equation and line to plot\u001b[0m\u001b[0;34m\u001b[0m\u001b[0;34m\u001b[0m\u001b[0;34m\u001b[0m\u001b[0m\n\u001b[0;32m----> 6\u001b[0;31m \u001b[0;34m(\u001b[0m\u001b[0mslope\u001b[0m\u001b[0;34m,\u001b[0m \u001b[0mintercept\u001b[0m\u001b[0;34m,\u001b[0m \u001b[0mrvalue\u001b[0m\u001b[0;34m,\u001b[0m \u001b[0mpvalue\u001b[0m\u001b[0;34m,\u001b[0m \u001b[0mstderr\u001b[0m\u001b[0;34m)\u001b[0m \u001b[0;34m=\u001b[0m \u001b[0mlinregress\u001b[0m\u001b[0;34m(\u001b[0m\u001b[0mx_values\u001b[0m\u001b[0;34m,\u001b[0m \u001b[0my_values\u001b[0m\u001b[0;34m)\u001b[0m\u001b[0;34m\u001b[0m\u001b[0;34m\u001b[0m\u001b[0m\n\u001b[0m\u001b[1;32m      7\u001b[0m \u001b[0mregress_values\u001b[0m \u001b[0;34m=\u001b[0m \u001b[0mx_values\u001b[0m \u001b[0;34m*\u001b[0m \u001b[0mslope\u001b[0m \u001b[0;34m+\u001b[0m \u001b[0mintercept\u001b[0m\u001b[0;34m\u001b[0m\u001b[0;34m\u001b[0m\u001b[0m\n\u001b[1;32m      8\u001b[0m \u001b[0mline_eq\u001b[0m \u001b[0;34m=\u001b[0m \u001b[0;34m\"y = \"\u001b[0m \u001b[0;34m+\u001b[0m \u001b[0mstr\u001b[0m\u001b[0;34m(\u001b[0m\u001b[0mround\u001b[0m\u001b[0;34m(\u001b[0m\u001b[0mslope\u001b[0m\u001b[0;34m,\u001b[0m\u001b[0;36m2\u001b[0m\u001b[0;34m)\u001b[0m\u001b[0;34m)\u001b[0m \u001b[0;34m+\u001b[0m \u001b[0;34m\"x + \"\u001b[0m \u001b[0;34m+\u001b[0m \u001b[0mstr\u001b[0m\u001b[0;34m(\u001b[0m\u001b[0mround\u001b[0m\u001b[0;34m(\u001b[0m\u001b[0mintercept\u001b[0m\u001b[0;34m,\u001b[0m\u001b[0;36m2\u001b[0m\u001b[0;34m)\u001b[0m\u001b[0;34m)\u001b[0m\u001b[0;34m\u001b[0m\u001b[0;34m\u001b[0m\u001b[0m\n",
      "\u001b[0;32m~/anaconda3/lib/python3.7/site-packages/scipy/stats/_stats_mstats_common.py\u001b[0m in \u001b[0;36mlinregress\u001b[0;34m(x, y)\u001b[0m\n\u001b[1;32m     93\u001b[0m \u001b[0;34m\u001b[0m\u001b[0m\n\u001b[1;32m     94\u001b[0m     \u001b[0;32mif\u001b[0m \u001b[0mx\u001b[0m\u001b[0;34m.\u001b[0m\u001b[0msize\u001b[0m \u001b[0;34m==\u001b[0m \u001b[0;36m0\u001b[0m \u001b[0;32mor\u001b[0m \u001b[0my\u001b[0m\u001b[0;34m.\u001b[0m\u001b[0msize\u001b[0m \u001b[0;34m==\u001b[0m \u001b[0;36m0\u001b[0m\u001b[0;34m:\u001b[0m\u001b[0;34m\u001b[0m\u001b[0;34m\u001b[0m\u001b[0m\n\u001b[0;32m---> 95\u001b[0;31m         \u001b[0;32mraise\u001b[0m \u001b[0mValueError\u001b[0m\u001b[0;34m(\u001b[0m\u001b[0;34m\"Inputs must not be empty.\"\u001b[0m\u001b[0;34m)\u001b[0m\u001b[0;34m\u001b[0m\u001b[0;34m\u001b[0m\u001b[0m\n\u001b[0m\u001b[1;32m     96\u001b[0m \u001b[0;34m\u001b[0m\u001b[0m\n\u001b[1;32m     97\u001b[0m     \u001b[0mn\u001b[0m \u001b[0;34m=\u001b[0m \u001b[0mlen\u001b[0m\u001b[0;34m(\u001b[0m\u001b[0mx\u001b[0m\u001b[0;34m)\u001b[0m\u001b[0;34m\u001b[0m\u001b[0;34m\u001b[0m\u001b[0m\n",
      "\u001b[0;31mValueError\u001b[0m: Inputs must not be empty."
     ]
    }
   ],
   "source": [
    "# determine x- and y-values\n",
    "x_values = south_hemi['Lat']\n",
    "y_values = south_hemi['Max Temp']\n",
    "\n",
    "# Add the linear regression equation and line to plot\n",
    "(slope, intercept, rvalue, pvalue, stderr) = linregress(x_values, y_values)\n",
    "regress_values = x_values * slope + intercept\n",
    "line_eq = \"y = \" + str(round(slope,2)) + \"x + \" + str(round(intercept,2))\n",
    "plt.scatter(x_values,y_values)\n",
    "plt.plot(x_values,regress_values,\"r-\")\n",
    "plt.annotate(line_eq,(20,15),fontsize=15,color=\"red\")\n",
    "\n",
    "# identify plot labels\n",
    "plt.title(\"Southern Hemisphere Latitude vs. Cloudiness (10/6/19)\")\n",
    "plt.xlabel('Latitude')\n",
    "plt.ylabel('Cloudiness (%)')\n",
    "\n",
    "print(f\"The r-squared value is: {rvalue}\")\n",
    "plt.show()\n",
    "plt.savefig(\"SH_lat_vs_cloud\")"
   ]
  },
  {
   "cell_type": "markdown",
   "metadata": {},
   "source": [
    "####  Northern Hemisphere - Wind Speed (mph) vs. Latitude Linear Regression"
   ]
  },
  {
   "cell_type": "code",
   "execution_count": 162,
   "metadata": {},
   "outputs": [
    {
     "name": "stdout",
     "output_type": "stream",
     "text": [
      "The r-squared value is: 0.42338956827322294\n"
     ]
    },
    {
     "data": {
      "image/png": "[encoded data removed]",
      "text/plain": [
       "<Figure size 432x288 with 1 Axes>"
      ]
     },
     "metadata": {
      "needs_background": "light"
     },
     "output_type": "display_data"
    },
    {
     "data": {
      "text/plain": [
       "<Figure size 432x288 with 0 Axes>"
      ]
     },
     "metadata": {},
     "output_type": "display_data"
    }
   ],
   "source": [
    "# determine x- and y-values\n",
    "x_values = north_hemi['Lat']\n",
    "y_values = north_hemi['Wind Speed']\n",
    "\n",
    "# Add the linear regression equation and line to plot\n",
    "(slope, intercept, rvalue, pvalue, stderr) = linregress(x_values, y_values)\n",
    "regress_values = x_values * slope + intercept\n",
    "line_eq = \"y = \" + str(round(slope,2)) + \"x + \" + str(round(intercept,2))\n",
    "plt.scatter(x_values,y_values)\n",
    "plt.plot(x_values,regress_values,\"r-\")\n",
    "plt.annotate(line_eq,(20,3),fontsize=15,color=\"red\")\n",
    "\n",
    "# identify plot labels\n",
    "plt.title(\"Northern Hemisphere Latitude vs. Wind Speed (10/6/19)\")\n",
    "plt.xlabel('Latitude')\n",
    "plt.ylabel('Wind Speed (MPH)')\n",
    "\n",
    "\n",
    "print(f\"The r-squared value is: {rvalue}\")\n",
    "plt.show()\n",
    "plt.savefig(\"NH_lat_vs_WS\")"
   ]
  },
  {
   "cell_type": "markdown",
   "metadata": {},
   "source": [
    "####  Southern Hemisphere - Wind Speed (mph) vs. Latitude Linear Regression"
   ]
  },
  {
   "cell_type": "code",
   "execution_count": 163,
   "metadata": {},
   "outputs": [
    {
     "ename": "ValueError",
     "evalue": "Inputs must not be empty.",
     "output_type": "error",
     "traceback": [
      "\u001b[0;31m---------------------------------------------------------------------------\u001b[0m",
      "\u001b[0;31mValueError\u001b[0m                                Traceback (most recent call last)",
      "\u001b[0;32m<ipython-input-163-b3d5fccd4d27>\u001b[0m in \u001b[0;36m<module>\u001b[0;34m\u001b[0m\n\u001b[1;32m      4\u001b[0m \u001b[0;34m\u001b[0m\u001b[0m\n\u001b[1;32m      5\u001b[0m \u001b[0;31m# Add the linear regression equation and line to plot\u001b[0m\u001b[0;34m\u001b[0m\u001b[0;34m\u001b[0m\u001b[0;34m\u001b[0m\u001b[0m\n\u001b[0;32m----> 6\u001b[0;31m \u001b[0;34m(\u001b[0m\u001b[0mslope\u001b[0m\u001b[0;34m,\u001b[0m \u001b[0mintercept\u001b[0m\u001b[0;34m,\u001b[0m \u001b[0mrvalue\u001b[0m\u001b[0;34m,\u001b[0m \u001b[0mpvalue\u001b[0m\u001b[0;34m,\u001b[0m \u001b[0mstderr\u001b[0m\u001b[0;34m)\u001b[0m \u001b[0;34m=\u001b[0m \u001b[0mlinregress\u001b[0m\u001b[0;34m(\u001b[0m\u001b[0mx_values\u001b[0m\u001b[0;34m,\u001b[0m \u001b[0my_values\u001b[0m\u001b[0;34m)\u001b[0m\u001b[0;34m\u001b[0m\u001b[0;34m\u001b[0m\u001b[0m\n\u001b[0m\u001b[1;32m      7\u001b[0m \u001b[0mregress_values\u001b[0m \u001b[0;34m=\u001b[0m \u001b[0mx_values\u001b[0m \u001b[0;34m*\u001b[0m \u001b[0mslope\u001b[0m \u001b[0;34m+\u001b[0m \u001b[0mintercept\u001b[0m\u001b[0;34m\u001b[0m\u001b[0;34m\u001b[0m\u001b[0m\n\u001b[1;32m      8\u001b[0m \u001b[0mline_eq\u001b[0m \u001b[0;34m=\u001b[0m \u001b[0;34m\"y = \"\u001b[0m \u001b[0;34m+\u001b[0m \u001b[0mstr\u001b[0m\u001b[0;34m(\u001b[0m\u001b[0mround\u001b[0m\u001b[0;34m(\u001b[0m\u001b[0mslope\u001b[0m\u001b[0;34m,\u001b[0m\u001b[0;36m2\u001b[0m\u001b[0;34m)\u001b[0m\u001b[0;34m)\u001b[0m \u001b[0;34m+\u001b[0m \u001b[0;34m\"x + \"\u001b[0m \u001b[0;34m+\u001b[0m \u001b[0mstr\u001b[0m\u001b[0;34m(\u001b[0m\u001b[0mround\u001b[0m\u001b[0;34m(\u001b[0m\u001b[0mintercept\u001b[0m\u001b[0;34m,\u001b[0m\u001b[0;36m2\u001b[0m\u001b[0;34m)\u001b[0m\u001b[0;34m)\u001b[0m\u001b[0;34m\u001b[0m\u001b[0;34m\u001b[0m\u001b[0m\n",
      "\u001b[0;32m~/anaconda3/lib/python3.7/site-packages/scipy/stats/_stats_mstats_common.py\u001b[0m in \u001b[0;36mlinregress\u001b[0;34m(x, y)\u001b[0m\n\u001b[1;32m     93\u001b[0m \u001b[0;34m\u001b[0m\u001b[0m\n\u001b[1;32m     94\u001b[0m     \u001b[0;32mif\u001b[0m \u001b[0mx\u001b[0m\u001b[0;34m.\u001b[0m\u001b[0msize\u001b[0m \u001b[0;34m==\u001b[0m \u001b[0;36m0\u001b[0m \u001b[0;32mor\u001b[0m \u001b[0my\u001b[0m\u001b[0;34m.\u001b[0m\u001b[0msize\u001b[0m \u001b[0;34m==\u001b[0m \u001b[0;36m0\u001b[0m\u001b[0;34m:\u001b[0m\u001b[0;34m\u001b[0m\u001b[0;34m\u001b[0m\u001b[0m\n\u001b[0;32m---> 95\u001b[0;31m         \u001b[0;32mraise\u001b[0m \u001b[0mValueError\u001b[0m\u001b[0;34m(\u001b[0m\u001b[0;34m\"Inputs must not be empty.\"\u001b[0m\u001b[0;34m)\u001b[0m\u001b[0;34m\u001b[0m\u001b[0;34m\u001b[0m\u001b[0m\n\u001b[0m\u001b[1;32m     96\u001b[0m \u001b[0;34m\u001b[0m\u001b[0m\n\u001b[1;32m     97\u001b[0m     \u001b[0mn\u001b[0m \u001b[0;34m=\u001b[0m \u001b[0mlen\u001b[0m\u001b[0;34m(\u001b[0m\u001b[0mx\u001b[0m\u001b[0;34m)\u001b[0m\u001b[0;34m\u001b[0m\u001b[0;34m\u001b[0m\u001b[0m\n",
      "\u001b[0;31mValueError\u001b[0m: Inputs must not be empty."
     ]
    }
   ],
   "source": [
    "# determine x- and y-values\n",
    "x_values = south_hemi['Lat']\n",
    "y_values = south_hemi['Wind Speed']\n",
    "\n",
    "# Add the linear regression equation and line to plot\n",
    "(slope, intercept, rvalue, pvalue, stderr) = linregress(x_values, y_values)\n",
    "regress_values = x_values * slope + intercept\n",
    "line_eq = \"y = \" + str(round(slope,2)) + \"x + \" + str(round(intercept,2))\n",
    "plt.scatter(x_values,y_values)\n",
    "plt.plot(x_values,regress_values,\"r-\")\n",
    "plt.annotate(line_eq,(20,3),fontsize=15,color=\"red\")\n",
    "\n",
    "# identify plot labels\n",
    "plt.title(\"Southern Hemisphere Latitude vs. Wind Speed (10/6/19)\")\n",
    "plt.xlabel('Latitude')\n",
    "plt.ylabel('Wind Speed (MPH)')\n",
    "\n",
    "\n",
    "print(f\"The r-squared value is: {rvalue}\")\n",
    "plt.show()\n",
    "plt.savefig(\"SH_lat_vs_WS\")"
   ]
  }
 ],
 "metadata": {
  "anaconda-cloud": {},
  "kernel_info": {
   "name": "python3"
  },
  "kernelspec": {
   "display_name": "Python 3",
   "language": "python",
   "name": "python3"
  },
  "language_info": {
   "codemirror_mode": {
    "name": "ipython",
    "version": 3
   },
   "file_extension": ".py",
   "mimetype": "text/x-python",
   "name": "python",
   "nbconvert_exporter": "python",
   "pygments_lexer": "ipython3",
   "version": "3.7.3"
  },
  "latex_envs": {
   "LaTeX_envs_menu_present": true,
   "autoclose": false,
   "autocomplete": true,
   "bibliofile": "biblio.bib",
   "cite_by": "apalike",
   "current_citInitial": 1,
   "eqLabelWithNumbers": true,
   "eqNumInitial": 1,
   "hotkeys": {
    "equation": "Ctrl-E",
    "itemize": "Ctrl-I"
   },
   "labels_anchors": false,
   "latex_user_defs": false,
   "report_style_numbering": false,
   "user_envs_cfg": false
  },
  "nteract": {
   "version": "0.12.3"
  }
 },
 "nbformat": 4,
 "nbformat_minor": 2
}
